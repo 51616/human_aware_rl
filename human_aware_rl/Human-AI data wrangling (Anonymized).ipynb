{
 "cells": [
  {
   "cell_type": "code",
   "execution_count": 1,
   "metadata": {},
   "outputs": [],
   "source": [
    "%matplotlib inline\n",
    "%matplotlib notebook\n",
    "import tqdm\n",
    "import pandas as pd\n",
    "from human_aware_rl.human.data_processing_utils import * \n",
    "from human_aware_rl.human.process_dataframes import *\n",
    "from overcooked_ai_py.utils import save_pickle, load_pickle\n",
    "import random\n",
    "from collections import defaultdict\n",
    "from tqdm import trange"
   ]
  },
  {
   "cell_type": "markdown",
   "metadata": {},
   "source": [
    "## Reading in"
   ]
  },
  {
   "cell_type": "markdown",
   "metadata": {},
   "source": [
    "## Human-AI data reading"
   ]
  },
  {
   "cell_type": "markdown",
   "metadata": {},
   "source": [
    "### Question Data"
   ]
  },
  {
   "cell_type": "markdown",
   "metadata": {},
   "source": [
    "#### Analysis"
   ]
  },
  {
   "cell_type": "code",
   "execution_count": 2,
   "metadata": {},
   "outputs": [],
   "source": [
    "final_hai_question_data = pd.read_csv(\"data/human/anonymized/HAI_questiondata.csv\")"
   ]
  },
  {
   "cell_type": "code",
   "execution_count": 3,
   "metadata": {},
   "outputs": [],
   "source": [
    "gender_responses = list([gen.lower() for gen in final_hai_question_data['gender']])"
   ]
  },
  {
   "cell_type": "code",
   "execution_count": 4,
   "metadata": {},
   "outputs": [
    {
     "name": "stdout",
     "output_type": "stream",
     "text": [
      "Male 38 Female 19 out of 58\n"
     ]
    }
   ],
   "source": [
    "print(\"Male\", sum([a[:1] == \"m\" for a in gender_responses]), \"Female\", sum([a[:1] == \"f\" for a in gender_responses]), \"out of\", len(gender_responses))"
   ]
  },
  {
   "cell_type": "code",
   "execution_count": 5,
   "metadata": {},
   "outputs": [
    {
     "data": {
      "text/plain": [
       "(20, 59)"
      ]
     },
     "execution_count": 5,
     "metadata": {},
     "output_type": "execute_result"
    },
    {
     "data": {
      "image/png": "[encoded data removed]",
      "text/plain": [
       "<Figure size 432x288 with 1 Axes>"
      ]
     },
     "metadata": {
      "needs_background": "light"
     },
     "output_type": "display_data"
    }
   ],
   "source": [
    "plt.hist([int(gen) for gen in final_hai_question_data['age']])\n",
    "ages = [int(gen) for gen in final_hai_question_data['age']]\n",
    "min(ages), max(ages)"
   ]
  },
  {
   "cell_type": "markdown",
   "metadata": {},
   "source": [
    "### Game data"
   ]
  },
  {
   "cell_type": "markdown",
   "metadata": {},
   "source": [
    "# Cleaning Trials\n",
    "## Removing trials with low rewards"
   ]
  },
  {
   "cell_type": "code",
   "execution_count": 6,
   "metadata": {},
   "outputs": [],
   "source": [
    "main_hai_trials = pd.read_pickle(\"data/human/anonymized/clean_human_AI_trials.pkl\")"
   ]
  },
  {
   "cell_type": "code",
   "execution_count": 7,
   "metadata": {},
   "outputs": [],
   "source": [
    "def clean_pbt(main_hai_trials, remove_adversarial, remove_suspicious):\n",
    "    main_trials_pbt = main_hai_trials[main_hai_trials['model_type'] == 'pbt']\n",
    "    \n",
    "    worker_layout_pairs = [\n",
    "        [18, 16, 18, 12, 16, 9, 18],\n",
    "        [\"cramped_room\", \"cramped_room\", \"asymmetric_advantages\", \"asymmetric_advantages\", \"coordination_ring\", \"random3\", \"random3\"]\n",
    "    ]\n",
    "\n",
    "    for workerid_num, layout in zip(*worker_layout_pairs):\n",
    "        main_trials_pbt = remove_worker_on_map(main_trials_pbt, workerid_num, layout)\n",
    "\n",
    "    if remove_adversarial:\n",
    "        worker_layout_pairs = [\n",
    "            [11, 4, 12, 16, 18, 14, 12, 16],\n",
    "            [\"cramped_room\", \"cramped_room\", \"cramped_room\", \"asymmetric_advantages\", \"coordination_ring\", \"random0\", \"random3\", \"random3\"]\n",
    "        ]\n",
    "        \n",
    "        for workerid_num, layout in zip(*worker_layout_pairs):\n",
    "            main_trials_pbt = remove_worker_on_map(main_trials_pbt, workerid_num, layout)\n",
    "\n",
    "    if remove_suspicious:\n",
    "        worker_layout_pairs = [\n",
    "            [12, 2]\n",
    "            [\"asymmetric_advantages\", \"coordination_ring\"]\n",
    "        ]\n",
    "        \n",
    "        for workerid_num, layout in zip(*worker_layout_pairs):\n",
    "            main_trials_pbt = remove_worker_on_map(main_trials_pbt, workerid_num, layout)\n",
    "    \n",
    "    return main_trials_pbt\n",
    "\n",
    "def clean_ppo_sp(main_hai_trials, remove_adversarial, remove_suspicious):\n",
    "    main_trials_ppo_sp = main_hai_trials[main_hai_trials['model_type'] == 'ppo_sp']\n",
    "\n",
    "    for workerid_num in [56, 54, 46, 43]:\n",
    "        main_trials_ppo_sp = remove_worker_on_map(main_trials_ppo_sp, workerid_num, \"asymmetric_advantages\")\n",
    "\n",
    "    if remove_adversarial:\n",
    "        \n",
    "        for workerid_num in [54, 53, 43, 42]:\n",
    "            main_trials_ppo_sp = remove_worker_on_map(main_trials_ppo_sp, workerid_num, \"cramped_room\")\n",
    "        \n",
    "        for workerid_num in [53, 43]:\n",
    "            main_trials_ppo_sp = remove_worker_on_map(main_trials_ppo_sp, workerid_num, \"coordination_ring\")\n",
    "        \n",
    "        main_trials_ppo_sp = remove_worker_on_map(main_trials_ppo_sp, 53, \"asymmetric_advantages\")\n",
    "\n",
    "    if remove_suspicious:\n",
    "        main_trials_ppo_sp = remove_worker_on_map(main_trials_ppo_sp, 56, \"cramped_room\")\n",
    "        main_trials_ppo_sp = remove_worker_on_map(main_trials_ppo_sp, 55, \"random3\")\n",
    "    return main_trials_ppo_sp\n",
    "\n",
    "def clean_ppo_bc(main_hai_trials, remove_adversarial, remove_suspicious):\n",
    "    main_trials_ppo_bc = main_hai_trials[main_hai_trials['model_type'] == 'ppo_bc']\n",
    "\n",
    "    # Remove broken\n",
    "    for workerid_num in [22, 26, 24]:\n",
    "        main_trials_ppo_bc = remove_worker(main_trials_ppo_bc, workerid_num)\n",
    "        \n",
    "    for layout in [\"asymmetric_advantages\", \"coordination_ring\"]:\n",
    "        main_trials_ppo_bc = remove_worker_on_map(main_trials_ppo_bc, 29, layout) # No actions for large portion of trial\n",
    "\n",
    "    # Remove adversarial\n",
    "    if remove_adversarial:\n",
    "        for workerid_num in [32, 25]:\n",
    "            main_trials_ppo_bc = remove_worker_on_map(main_trials_ppo_bc, workerid_num, \"cramped_room\")\n",
    "        \n",
    "        for workerid_num in [25, 37, 28, 23]:\n",
    "            main_trials_ppo_bc = remove_worker_on_map(main_trials_ppo_bc, workerid_num, \"coordination_ring\")\n",
    "        \n",
    "        for workerid_num in [37, 28]:\n",
    "            main_trials_ppo_bc = remove_worker_on_map(main_trials_ppo_bc, workerid_num, \"asymmetric_advantages\")\n",
    "\n",
    "        for workerid_num in [28, 23, 35]:\n",
    "            main_trials_ppo_bc = remove_worker_on_map(main_trials_ppo_bc, workerid_num, \"random3\")\n",
    "        \n",
    "    if remove_suspicious:\n",
    "        main_trials_ppo_bc = remove_worker_on_map(main_trials_ppo_bc, 34, \"asymmetric_advantages\")\n",
    "        \n",
    "        for workerid_num in [34, 32, 19]:\n",
    "            main_trials_ppo_bc = remove_worker_on_map(main_trials_ppo_bc, workerid_num, \"coordination_ring\")\n",
    "            \n",
    "    return main_trials_ppo_bc"
   ]
  },
  {
   "cell_type": "code",
   "execution_count": 8,
   "metadata": {},
   "outputs": [],
   "source": [
    "data = defaultdict(dict)"
   ]
  },
  {
   "cell_type": "code",
   "execution_count": 9,
   "metadata": {},
   "outputs": [],
   "source": [
    "remove_suspicious = False"
   ]
  },
  {
   "cell_type": "code",
   "execution_count": 10,
   "metadata": {},
   "outputs": [
    {
     "name": "stdout",
     "output_type": "stream",
     "text": [
      "ppo_sp\n",
      "ppo_bc\n",
      "pbt\n",
      "ppo_sp\n",
      "ppo_bc\n",
      "pbt\n"
     ]
    }
   ],
   "source": [
    "for remove_adversarial, suffix in zip([False, True], [\"_base\", \"_no_advers\"]):\n",
    "    print(\"ppo_sp\")\n",
    "    main_trials_ppo_sp = clean_ppo_sp(main_hai_trials, remove_adversarial, remove_suspicious)\n",
    "    add_means_and_stds_from_df(data, main_trials_ppo_sp, \"ppo_sp\" + suffix)\n",
    "    \n",
    "    print(\"ppo_bc\")\n",
    "    main_trials_ppo_bc = clean_ppo_bc(main_hai_trials, remove_adversarial, remove_suspicious)\n",
    "    add_means_and_stds_from_df(data, main_trials_ppo_bc, \"ppo_bc\" + suffix)\n",
    "    \n",
    "    print(\"pbt\")\n",
    "    main_trials_pbt = clean_pbt(main_hai_trials, remove_adversarial, remove_suspicious)\n",
    "    add_means_and_stds_from_df(data, main_trials_pbt, \"pbt\" + suffix)\n",
    "    \n",
    "    if remove_adversarial is True:\n",
    "        clean_humanai = pd.concat([main_trials_pbt, main_trials_ppo_bc, main_trials_ppo_sp])\n",
    "        clean_humanai.to_pickle(\"data/human/anonymized/clean_humanai_trials.pkl\")"
   ]
  },
  {
   "cell_type": "code",
   "execution_count": 11,
   "metadata": {},
   "outputs": [
    {
     "data": {
      "text/plain": [
       "defaultdict(dict,\n",
       "            {'asymmetric_advantages': {'ppo_sp_base_0': (115.0,\n",
       "               12.119199643540822),\n",
       "              'ppo_sp_base_1': (132.5, 21.19478119726646),\n",
       "              'ppo_bc_base_0': (84.44444444444444, 13.976268343787561),\n",
       "              'ppo_bc_base_1': (150.0, 30.092450142112984),\n",
       "              'pbt_base_0': (93.33333333333333, 15.07184440694504),\n",
       "              'pbt_base_1': (134.28571428571428, 25.782223179353068),\n",
       "              'ppo_sp_no_advers_0': (115.0, 12.119199643540822),\n",
       "              'ppo_sp_no_advers_1': (151.42857142857142, 13.313882800244972),\n",
       "              'ppo_bc_no_advers_0': (95.0, 11.039701082909808),\n",
       "              'ppo_bc_no_advers_1': (180.0, 14.966629547095765),\n",
       "              'pbt_no_advers_0': (93.33333333333333, 15.07184440694504),\n",
       "              'pbt_no_advers_1': (156.66666666666666, 17.898892992874462)},\n",
       "             'coordination_ring': {'ppo_sp_base_0': (85.45454545454545,\n",
       "               11.808642049250745),\n",
       "              'ppo_sp_base_1': (66.66666666666667, 12.171612389003691),\n",
       "              'ppo_bc_base_0': (106.66666666666667, 15.713484026367723),\n",
       "              'ppo_bc_base_1': (106.66666666666667, 25.23959264800122),\n",
       "              'pbt_base_0': (91.11111111111111, 7.768954430890012),\n",
       "              'pbt_base_1': (97.5, 12.468710839537502),\n",
       "              'ppo_sp_no_advers_0': (85.45454545454545, 11.808642049250745),\n",
       "              'ppo_sp_no_advers_1': (82.85714285714286, 8.5031292473468),\n",
       "              'ppo_bc_no_advers_0': (126.66666666666667, 16.101529717988267),\n",
       "              'ppo_bc_no_advers_1': (116.0, 28.50964748992874),\n",
       "              'pbt_no_advers_0': (91.11111111111111, 7.768954430890012),\n",
       "              'pbt_no_advers_1': (105.71428571428571, 11.222634354993893)},\n",
       "             'cramped_room': {'ppo_sp_base_0': (76.36363636363636,\n",
       "               12.28267120870036),\n",
       "              'ppo_sp_base_1': (77.77777777777777, 14.8887046238828),\n",
       "              'ppo_bc_base_0': (128.0, 17.251086922278258),\n",
       "              'ppo_bc_base_1': (156.66666666666666, 12.838022231434827),\n",
       "              'pbt_base_0': (80.0, 17.435595774162692),\n",
       "              'pbt_base_1': (91.42857142857143, 15.574517574154214),\n",
       "              'ppo_sp_no_advers_0': (91.11111111111111, 9.486109981381999),\n",
       "              'ppo_sp_no_advers_1': (97.14285714285714, 11.012846990393502),\n",
       "              'ppo_bc_no_advers_0': (137.77777777777777, 16.1610549846455),\n",
       "              'ppo_bc_no_advers_1': (168.0, 9.121403400793103),\n",
       "              'pbt_no_advers_0': (100.0, 15.0),\n",
       "              'pbt_no_advers_1': (103.33333333333333, 12.838022231434826)},\n",
       "             'random0': {'ppo_sp_base_0': (18.181818181818183,\n",
       "               5.426927325415538),\n",
       "              'ppo_sp_base_1': (75.55555555555556, 24.701232593382326),\n",
       "              'ppo_bc_base_0': (2.0, 1.8973665961010275),\n",
       "              'ppo_bc_base_1': (76.66666666666667, 12.838022231434826),\n",
       "              'pbt_base_0': (33.333333333333336, 8.31479419283098),\n",
       "              'pbt_base_1': (17.77777777777778, 12.350616296691163),\n",
       "              'ppo_sp_no_advers_0': (18.181818181818183, 5.426927325415538),\n",
       "              'ppo_sp_no_advers_1': (75.55555555555556, 24.701232593382326),\n",
       "              'ppo_bc_no_advers_0': (2.0, 1.8973665961010275),\n",
       "              'ppo_bc_no_advers_1': (76.66666666666667, 12.838022231434826),\n",
       "              'pbt_no_advers_0': (37.5, 8.244316223920574),\n",
       "              'pbt_no_advers_1': (17.77777777777778, 12.350616296691163)},\n",
       "             'random3': {'ppo_sp_base_0': (54.54545454545455,\n",
       "               10.314367445833188),\n",
       "              'ppo_sp_base_1': (46.666666666666664, 11.758894715842624),\n",
       "              'ppo_bc_base_0': (56.0, 5.513619500836089),\n",
       "              'ppo_bc_base_1': (53.333333333333336, 13.052600138300814),\n",
       "              'pbt_base_0': (31.11111111111111, 5.543196128553987),\n",
       "              'pbt_base_1': (28.571428571428573, 10.58080114025773),\n",
       "              'ppo_sp_no_advers_0': (54.54545454545455, 10.314367445833188),\n",
       "              'ppo_sp_no_advers_1': (46.666666666666664, 11.758894715842624),\n",
       "              'ppo_bc_no_advers_0': (62.5, 4.238956239453292),\n",
       "              'ppo_bc_no_advers_1': (64.0, 10.430723848324238),\n",
       "              'pbt_no_advers_0': (31.11111111111111, 5.543196128553987),\n",
       "              'pbt_no_advers_1': (36.0, 13.145341380123986)}})"
      ]
     },
     "execution_count": 11,
     "metadata": {},
     "output_type": "execute_result"
    }
   ],
   "source": [
    "data"
   ]
  },
  {
   "cell_type": "code",
   "execution_count": 12,
   "metadata": {},
   "outputs": [],
   "source": [
    "# Convert layout names to python format\n",
    "data_copy = data.copy()\n",
    "for k, v in data_copy.items():\n",
    "    if k != JS_LAYOUT_NAME_TO_PYTHON_NAME[k]:\n",
    "        data[JS_LAYOUT_NAME_TO_PYTHON_NAME[k]] = v\n",
    "        del data[k]"
   ]
  },
  {
   "cell_type": "code",
   "execution_count": 13,
   "metadata": {},
   "outputs": [],
   "source": [
    "save_pickle(data, \"data/human/anonymized/humanai_performance\")"
   ]
  },
  {
   "cell_type": "markdown",
   "metadata": {},
   "source": [
    "## Exporting data for stats"
   ]
  },
  {
   "cell_type": "code",
   "execution_count": 14,
   "metadata": {},
   "outputs": [
    {
     "data": {
      "text/html": [
       "<div>\n",
       "<style scoped>\n",
       "    .dataframe tbody tr th:only-of-type {\n",
       "        vertical-align: middle;\n",
       "    }\n",
       "\n",
       "    .dataframe tbody tr th {\n",
       "        vertical-align: top;\n",
       "    }\n",
       "\n",
       "    .dataframe thead th {\n",
       "        text-align: right;\n",
       "    }\n",
       "</style>\n",
       "<table border=\"1\" class=\"dataframe\">\n",
       "  <thead>\n",
       "    <tr style=\"text-align: right;\">\n",
       "      <th></th>\n",
       "      <th>workerid_num</th>\n",
       "      <th>Unnamed: 0</th>\n",
       "      <th>MODEL_TYPE</th>\n",
       "      <th>PLAYER_INDEX</th>\n",
       "      <th>age</th>\n",
       "      <th>bonus_calc</th>\n",
       "      <th>bot_test</th>\n",
       "      <th>difficulty</th>\n",
       "      <th>early_exit</th>\n",
       "      <th>fun</th>\n",
       "      <th>gender</th>\n",
       "      <th>intuitiveness</th>\n",
       "      <th>other_feedback</th>\n",
       "      <th>partner_strategy</th>\n",
       "      <th>self_strategy</th>\n",
       "      <th>smoothness</th>\n",
       "      <th>video_games</th>\n",
       "      <th>layout_name</th>\n",
       "      <th>reward_norm_total</th>\n",
       "    </tr>\n",
       "  </thead>\n",
       "  <tbody>\n",
       "    <tr>\n",
       "      <th>0</th>\n",
       "      <td>0</td>\n",
       "      <td>57</td>\n",
       "      <td>pbt</td>\n",
       "      <td>1</td>\n",
       "      <td>26</td>\n",
       "      <td>0.7</td>\n",
       "      <td>I listen to all types of music but mostly list...</td>\n",
       "      <td>1</td>\n",
       "      <td>False</td>\n",
       "      <td>3</td>\n",
       "      <td>male</td>\n",
       "      <td>6</td>\n",
       "      <td>NaN</td>\n",
       "      <td>I would describe my partners strategy as gener...</td>\n",
       "      <td>I would describe my strategy as always trying ...</td>\n",
       "      <td>1</td>\n",
       "      <td>My experience playing video games is moderate.</td>\n",
       "      <td>asymmetric_advantages</td>\n",
       "      <td>100.0</td>\n",
       "    </tr>\n",
       "    <tr>\n",
       "      <th>1</th>\n",
       "      <td>0</td>\n",
       "      <td>57</td>\n",
       "      <td>pbt</td>\n",
       "      <td>1</td>\n",
       "      <td>26</td>\n",
       "      <td>0.7</td>\n",
       "      <td>I listen to all types of music but mostly list...</td>\n",
       "      <td>1</td>\n",
       "      <td>False</td>\n",
       "      <td>3</td>\n",
       "      <td>male</td>\n",
       "      <td>6</td>\n",
       "      <td>NaN</td>\n",
       "      <td>I would describe my partners strategy as gener...</td>\n",
       "      <td>I would describe my strategy as always trying ...</td>\n",
       "      <td>1</td>\n",
       "      <td>My experience playing video games is moderate.</td>\n",
       "      <td>coordination_ring</td>\n",
       "      <td>100.0</td>\n",
       "    </tr>\n",
       "    <tr>\n",
       "      <th>2</th>\n",
       "      <td>0</td>\n",
       "      <td>57</td>\n",
       "      <td>pbt</td>\n",
       "      <td>1</td>\n",
       "      <td>26</td>\n",
       "      <td>0.7</td>\n",
       "      <td>I listen to all types of music but mostly list...</td>\n",
       "      <td>1</td>\n",
       "      <td>False</td>\n",
       "      <td>3</td>\n",
       "      <td>male</td>\n",
       "      <td>6</td>\n",
       "      <td>NaN</td>\n",
       "      <td>I would describe my partners strategy as gener...</td>\n",
       "      <td>I would describe my strategy as always trying ...</td>\n",
       "      <td>1</td>\n",
       "      <td>My experience playing video games is moderate.</td>\n",
       "      <td>cramped_room</td>\n",
       "      <td>80.0</td>\n",
       "    </tr>\n",
       "    <tr>\n",
       "      <th>3</th>\n",
       "      <td>0</td>\n",
       "      <td>57</td>\n",
       "      <td>pbt</td>\n",
       "      <td>1</td>\n",
       "      <td>26</td>\n",
       "      <td>0.7</td>\n",
       "      <td>I listen to all types of music but mostly list...</td>\n",
       "      <td>1</td>\n",
       "      <td>False</td>\n",
       "      <td>3</td>\n",
       "      <td>male</td>\n",
       "      <td>6</td>\n",
       "      <td>NaN</td>\n",
       "      <td>I would describe my partners strategy as gener...</td>\n",
       "      <td>I would describe my strategy as always trying ...</td>\n",
       "      <td>1</td>\n",
       "      <td>My experience playing video games is moderate.</td>\n",
       "      <td>random0</td>\n",
       "      <td>0.0</td>\n",
       "    </tr>\n",
       "    <tr>\n",
       "      <th>4</th>\n",
       "      <td>0</td>\n",
       "      <td>57</td>\n",
       "      <td>pbt</td>\n",
       "      <td>1</td>\n",
       "      <td>26</td>\n",
       "      <td>0.7</td>\n",
       "      <td>I listen to all types of music but mostly list...</td>\n",
       "      <td>1</td>\n",
       "      <td>False</td>\n",
       "      <td>3</td>\n",
       "      <td>male</td>\n",
       "      <td>6</td>\n",
       "      <td>NaN</td>\n",
       "      <td>I would describe my partners strategy as gener...</td>\n",
       "      <td>I would describe my strategy as always trying ...</td>\n",
       "      <td>1</td>\n",
       "      <td>My experience playing video games is moderate.</td>\n",
       "      <td>random3</td>\n",
       "      <td>0.0</td>\n",
       "    </tr>\n",
       "  </tbody>\n",
       "</table>\n",
       "</div>"
      ],
      "text/plain": [
       "   workerid_num  Unnamed: 0 MODEL_TYPE  PLAYER_INDEX  age  bonus_calc  \\\n",
       "0             0          57        pbt             1   26         0.7   \n",
       "1             0          57        pbt             1   26         0.7   \n",
       "2             0          57        pbt             1   26         0.7   \n",
       "3             0          57        pbt             1   26         0.7   \n",
       "4             0          57        pbt             1   26         0.7   \n",
       "\n",
       "                                            bot_test  difficulty  early_exit  \\\n",
       "0  I listen to all types of music but mostly list...           1       False   \n",
       "1  I listen to all types of music but mostly list...           1       False   \n",
       "2  I listen to all types of music but mostly list...           1       False   \n",
       "3  I listen to all types of music but mostly list...           1       False   \n",
       "4  I listen to all types of music but mostly list...           1       False   \n",
       "\n",
       "   fun gender  intuitiveness other_feedback  \\\n",
       "0    3   male              6            NaN   \n",
       "1    3   male              6            NaN   \n",
       "2    3   male              6            NaN   \n",
       "3    3   male              6            NaN   \n",
       "4    3   male              6            NaN   \n",
       "\n",
       "                                    partner_strategy  \\\n",
       "0  I would describe my partners strategy as gener...   \n",
       "1  I would describe my partners strategy as gener...   \n",
       "2  I would describe my partners strategy as gener...   \n",
       "3  I would describe my partners strategy as gener...   \n",
       "4  I would describe my partners strategy as gener...   \n",
       "\n",
       "                                       self_strategy  smoothness  \\\n",
       "0  I would describe my strategy as always trying ...           1   \n",
       "1  I would describe my strategy as always trying ...           1   \n",
       "2  I would describe my strategy as always trying ...           1   \n",
       "3  I would describe my strategy as always trying ...           1   \n",
       "4  I would describe my strategy as always trying ...           1   \n",
       "\n",
       "                                      video_games            layout_name  \\\n",
       "0  My experience playing video games is moderate.  asymmetric_advantages   \n",
       "1  My experience playing video games is moderate.      coordination_ring   \n",
       "2  My experience playing video games is moderate.           cramped_room   \n",
       "3  My experience playing video games is moderate.                random0   \n",
       "4  My experience playing video games is moderate.                random3   \n",
       "\n",
       "   reward_norm_total  \n",
       "0              100.0  \n",
       "1              100.0  \n",
       "2               80.0  \n",
       "3                0.0  \n",
       "4                0.0  "
      ]
     },
     "execution_count": 14,
     "metadata": {},
     "output_type": "execute_result"
    }
   ],
   "source": [
    "rew_per_round = clean_humanai.groupby([\"layout_name\", \"workerid_num\"])[\"reward_norm_total\"].mean().reset_index()\n",
    "performance_per_round_with_type_df = final_hai_question_data.set_index('workerid_num').join(rew_per_round.set_index('workerid_num')).reset_index()\n",
    "performance_per_round_with_type_df.head()"
   ]
  },
  {
   "cell_type": "code",
   "execution_count": 15,
   "metadata": {},
   "outputs": [],
   "source": [
    "performance_per_round_with_type_df = performance_per_round_with_type_df.rename(columns={\"reward_norm_total\": \"reward\"})\n",
    "performance_per_round_with_type_df = performance_per_round_with_type_df.dropna(subset=['reward'])\n",
    "performance_per_round_with_type_df = performance_per_round_with_type_df.astype({'reward': 'int32'})\n",
    "performance_per_round_with_type_df.to_csv(\"data/human/anonymized/human_ai_exp_data_with_advers.csv\")"
   ]
  },
  {
   "cell_type": "markdown",
   "metadata": {},
   "source": [
    "## Visualizations"
   ]
  },
  {
   "cell_type": "code",
   "execution_count": 16,
   "metadata": {},
   "outputs": [],
   "source": [
    "ppo_sp_trials = main_hai_trials[main_hai_trials['model_type'] == 'ppo_sp']"
   ]
  },
  {
   "cell_type": "code",
   "execution_count": 17,
   "metadata": {},
   "outputs": [],
   "source": [
    "scenario_rews, worker_rews = get_trials_scenario_and_worker_rews(ppo_sp_trials)"
   ]
  },
  {
   "cell_type": "code",
   "execution_count": 18,
   "metadata": {},
   "outputs": [
    {
     "data": {
      "text/plain": [
       "{'cramped_room': {'mean': 77.0,\n",
       "  'standard_error': 9.515776374001229,\n",
       "  'max': 140.0,\n",
       "  'n': 20},\n",
       " 'asymmetric_advantages': {'mean': 102.0,\n",
       "  'standard_error': 13.992855319769442,\n",
       "  'max': 200.0,\n",
       "  'n': 20},\n",
       " 'coordination_ring': {'mean': 77.0,\n",
       "  'standard_error': 8.749285685128815,\n",
       "  'max': 160.0,\n",
       "  'n': 20},\n",
       " 'random3': {'mean': 51.0,\n",
       "  'standard_error': 7.807048097712732,\n",
       "  'max': 100.0,\n",
       "  'n': 20},\n",
       " 'random0': {'mean': 44.0,\n",
       "  'standard_error': 13.16054710108968,\n",
       "  'max': 200.0,\n",
       "  'n': 20}}"
      ]
     },
     "execution_count": 18,
     "metadata": {},
     "output_type": "execute_result"
    }
   ],
   "source": [
    "get_dict_stats(scenario_rews)"
   ]
  },
  {
   "cell_type": "code",
   "execution_count": 19,
   "metadata": {
    "scrolled": false
   },
   "outputs": [
    {
     "data": {
      "image/png": "[encoded data removed]",
      "text/plain": [
       "<Figure size 720x432 with 1 Axes>"
      ]
     },
     "metadata": {
      "needs_background": "light"
     },
     "output_type": "display_data"
    }
   ],
   "source": [
    "plt.figure(figsize=(10, 6))\n",
    "plt.title(\"Rewards per worker\")\n",
    "plt.boxplot(list(worker_rews.values()), labels=list(worker_rews.keys()))\n",
    "plt.xticks(rotation=30)\n",
    "plt.show()"
   ]
  },
  {
   "cell_type": "code",
   "execution_count": 20,
   "metadata": {},
   "outputs": [
    {
     "data": {
      "image/png": "[encoded data removed]",
      "text/plain": [
       "<Figure size 720x432 with 1 Axes>"
      ]
     },
     "metadata": {
      "needs_background": "light"
     },
     "output_type": "display_data"
    }
   ],
   "source": [
    "plt.figure(figsize=(10, 6))\n",
    "plt.title(\"Rewards per scenario\")\n",
    "plt.boxplot(list(scenario_rews.values()), labels=list(scenario_rews.keys()))\n",
    "plt.ylim(0,)\n",
    "plt.show()"
   ]
  },
  {
   "cell_type": "code",
   "execution_count": 21,
   "metadata": {
    "scrolled": false
   },
   "outputs": [
    {
     "name": "stdout",
     "output_type": "stream",
     "text": [
      "Displaying main trials for layout random0\n",
      "Worker:  0\n"
     ]
    },
    {
     "data": {
      "application/vnd.jupyter.widget-view+json": {
       "model_id": "b307194eb3034634b77f1a5413790057",
       "version_major": 2,
       "version_minor": 0
      },
      "text/plain": [
       "Output()"
      ]
     },
     "metadata": {},
     "output_type": "display_data"
    },
    {
     "data": {
      "application/vnd.jupyter.widget-view+json": {
       "model_id": "849221b99c634d069b0cdb7b50f8a90d",
       "version_major": 2,
       "version_minor": 0
      },
      "text/plain": [
       "IntSlider(value=0, max=401)"
      ]
     },
     "metadata": {},
     "output_type": "display_data"
    },
    {
     "name": "stdout",
     "output_type": "stream",
     "text": [
      "Worker:  1\n"
     ]
    },
    {
     "data": {
      "application/vnd.jupyter.widget-view+json": {
       "model_id": "6bfb6905d5374628a160cd85ee80f8f5",
       "version_major": 2,
       "version_minor": 0
      },
      "text/plain": [
       "Output()"
      ]
     },
     "metadata": {},
     "output_type": "display_data"
    },
    {
     "data": {
      "application/vnd.jupyter.widget-view+json": {
       "model_id": "fc8180b2ee36484187bfbdb3d8b118e5",
       "version_major": 2,
       "version_minor": 0
      },
      "text/plain": [
       "IntSlider(value=0, max=403)"
      ]
     },
     "metadata": {},
     "output_type": "display_data"
    },
    {
     "name": "stdout",
     "output_type": "stream",
     "text": [
      "Worker:  2\n"
     ]
    },
    {
     "data": {
      "application/vnd.jupyter.widget-view+json": {
       "model_id": "717647f5a73b47eca37bcd01c6e46942",
       "version_major": 2,
       "version_minor": 0
      },
      "text/plain": [
       "Output()"
      ]
     },
     "metadata": {},
     "output_type": "display_data"
    },
    {
     "data": {
      "application/vnd.jupyter.widget-view+json": {
       "model_id": "8babd3ce855d46e7993c2c5bd5e036c1",
       "version_major": 2,
       "version_minor": 0
      },
      "text/plain": [
       "IntSlider(value=0, max=403)"
      ]
     },
     "metadata": {},
     "output_type": "display_data"
    }
   ],
   "source": [
    "display_interactive_by_layout(clean_humanai, 'random0', limit=3)"
   ]
  },
  {
   "cell_type": "code",
   "execution_count": 22,
   "metadata": {
    "scrolled": false
   },
   "outputs": [
    {
     "name": "stdout",
     "output_type": "stream",
     "text": [
      "Displaying main trials for worker 10\n"
     ]
    },
    {
     "data": {
      "application/vnd.jupyter.widget-view+json": {
       "model_id": "6e6651616e604c59803f449181a274b8",
       "version_major": 2,
       "version_minor": 0
      },
      "text/plain": [
       "Output()"
      ]
     },
     "metadata": {},
     "output_type": "display_data"
    },
    {
     "data": {
      "application/vnd.jupyter.widget-view+json": {
       "model_id": "3c1ef04cc29943839a44d94da041eaca",
       "version_major": 2,
       "version_minor": 0
      },
      "text/plain": [
       "IntSlider(value=0, max=398)"
      ]
     },
     "metadata": {},
     "output_type": "display_data"
    },
    {
     "data": {
      "application/vnd.jupyter.widget-view+json": {
       "model_id": "04b5def5968642d5badc01ed97ec8896",
       "version_major": 2,
       "version_minor": 0
      },
      "text/plain": [
       "Output()"
      ]
     },
     "metadata": {},
     "output_type": "display_data"
    },
    {
     "data": {
      "application/vnd.jupyter.widget-view+json": {
       "model_id": "44dd3373e5c74d21bad3879a03f027d7",
       "version_major": 2,
       "version_minor": 0
      },
      "text/plain": [
       "IntSlider(value=0, max=399)"
      ]
     },
     "metadata": {},
     "output_type": "display_data"
    },
    {
     "data": {
      "application/vnd.jupyter.widget-view+json": {
       "model_id": "a279c6e90b0f452aba069fb6207b8770",
       "version_major": 2,
       "version_minor": 0
      },
      "text/plain": [
       "Output()"
      ]
     },
     "metadata": {},
     "output_type": "display_data"
    },
    {
     "data": {
      "application/vnd.jupyter.widget-view+json": {
       "model_id": "1a81919203e14dad8101d403e8e719e2",
       "version_major": 2,
       "version_minor": 0
      },
      "text/plain": [
       "IntSlider(value=0, max=400)"
      ]
     },
     "metadata": {},
     "output_type": "display_data"
    },
    {
     "data": {
      "application/vnd.jupyter.widget-view+json": {
       "model_id": "0edd253aad4d471b9ff0f75c3d5e2c68",
       "version_major": 2,
       "version_minor": 0
      },
      "text/plain": [
       "Output()"
      ]
     },
     "metadata": {},
     "output_type": "display_data"
    },
    {
     "data": {
      "application/vnd.jupyter.widget-view+json": {
       "model_id": "d911235e792f46e79a319b5f70179fa3",
       "version_major": 2,
       "version_minor": 0
      },
      "text/plain": [
       "IntSlider(value=0, max=399)"
      ]
     },
     "metadata": {},
     "output_type": "display_data"
    },
    {
     "data": {
      "application/vnd.jupyter.widget-view+json": {
       "model_id": "480f4e4bac5242edae2d7c20e73a76ac",
       "version_major": 2,
       "version_minor": 0
      },
      "text/plain": [
       "Output()"
      ]
     },
     "metadata": {},
     "output_type": "display_data"
    },
    {
     "data": {
      "application/vnd.jupyter.widget-view+json": {
       "model_id": "34ea81ccb14d4ab295c05eefa73f1807",
       "version_major": 2,
       "version_minor": 0
      },
      "text/plain": [
       "IntSlider(value=0, max=403)"
      ]
     },
     "metadata": {},
     "output_type": "display_data"
    }
   ],
   "source": [
    "display_interactive_by_workerid(clean_humanai, 10)"
   ]
  }
 ],
 "metadata": {
  "jupytext": {
   "cell_metadata_filter": "all",
   "notebook_metadata_filter": "all"
  },
  "kernelspec": {
   "display_name": "Python 3",
   "language": "python",
   "name": "python3"
  },
  "language_info": {
   "codemirror_mode": {
    "name": "ipython",
    "version": 3
   },
   "file_extension": ".py",
   "mimetype": "text/x-python",
   "name": "python",
   "nbconvert_exporter": "python",
   "pygments_lexer": "ipython3",
   "version": "3.7.3"
  }
 },
 "nbformat": 4,
 "nbformat_minor": 2
}
